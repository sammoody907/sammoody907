{
  "cells": [
    {
      "cell_type": "markdown",
      "metadata": {
        "id": "fTM70ZTuFcPU"
      },
      "source": [
        "<a href=\"https://colab.research.google.com/github/warwickdatascience/beginners-python/blob/master/session_two/session_two_blank_template.ipynb\" target=\"_parent\"><img src=\"https://colab.research.google.com/assets/colab-badge.svg\" alt=\"Open In Colab\"/></a>"
      ]
    },
    {
      "cell_type": "markdown",
      "metadata": {
        "id": "W5qce-AmFcPY"
      },
      "source": [
        "<center>Spotted a mistake? Report it <a href=\"https://github.com/warwickdatascience/beginners-python/issues/new\">here</a></center>"
      ]
    },
    {
      "cell_type": "markdown",
      "metadata": {
        "id": "iCMRmNj6FcPZ"
      },
      "source": [
        "# Beginner's Python—Session Two Template"
      ]
    },
    {
      "cell_type": "markdown",
      "metadata": {
        "id": "-Ceh1HnZIsVO"
      },
      "source": [
        "## User Input"
      ]
    },
    {
      "cell_type": "markdown",
      "metadata": {
        "id": "6AZ6H-6jKoSt"
      },
      "source": [
        "### Introduction\n"
      ]
    },
    {
      "cell_type": "markdown",
      "metadata": {
        "id": "ts8-vISoFcPa"
      },
      "source": [
        "Use the input function to ask the user a question and print the response"
      ]
    },
    {
      "cell_type": "code",
      "execution_count": 2,
      "metadata": {
        "colab": {
          "base_uri": "https://localhost:8080/"
        },
        "id": "D4l_2DsZIlgB",
        "outputId": "f95f176c-2ace-40d2-f3c8-7520f33b9712"
      },
      "outputs": [
        {
          "name": "stdout",
          "output_type": "stream",
          "text": [
            "What is your favourite foodchick\n"
          ]
        }
      ],
      "source": [
        "food = input(\"What is your favourite food\")"
      ]
    },
    {
      "cell_type": "markdown",
      "source": [
        "the variable food then takes the value of whatever the user has inputted as their favourite food"
      ],
      "metadata": {
        "id": "-mkTO34qG1Ga"
      }
    },
    {
      "cell_type": "code",
      "source": [
        "print(\"no way, my favourite food is\", food, \"too\",\"!\")"
      ],
      "metadata": {
        "id": "Yb9sElJdG03S",
        "outputId": "5e9b5555-15e4-423b-baab-3eaf31f2ca41",
        "colab": {
          "base_uri": "https://localhost:8080/"
        }
      },
      "execution_count": 4,
      "outputs": [
        {
          "output_type": "stream",
          "name": "stdout",
          "text": [
            "no way, my favourite food is chick too !\n"
          ]
        }
      ]
    },
    {
      "cell_type": "markdown",
      "source": [
        "  For consistency, the input command will always return a string, even if the user input is better suited to a diff var type. Therefore, may need to convert the variable storing the user input to a different type"
      ],
      "metadata": {
        "id": "BllencDeHOtw"
      }
    },
    {
      "cell_type": "code",
      "metadata": {
        "id": "9lLW387eKgNN"
      },
      "source": [
        "Ask for numeric user input and assign this to a variable. Check this variables type and then convert it to an integer. Check the type again, perform some maths on the variable, and print the result"
      ],
      "execution_count": null,
      "outputs": []
    },
    {
      "cell_type": "code",
      "source": [
        "baker = input(\"How many doughnuts in a baker's dozen?\")\n",
        "print(type(baker))\n",
        "baker = int(baker)\n",
        "print (type(baker))\n",
        "dozen = baker-1\n",
        "print (\"There are\",dozen,\"doughnuts in a non-baker's dozen\")"
      ],
      "metadata": {
        "id": "Ktf4yczeIF5j",
        "outputId": "42d790b3-99b6-4d84-a17a-6df0a5b2f5e0",
        "colab": {
          "base_uri": "https://localhost:8080/"
        }
      },
      "execution_count": 7,
      "outputs": [
        {
          "output_type": "stream",
          "name": "stdout",
          "text": [
            "How many doughnuts in a baker's dozen?13\n",
            "<class 'str'>\n",
            "<class 'int'>\n",
            "There are 12 doughnuts in a non-baker's dozen\n"
          ]
        }
      ]
    },
    {
      "cell_type": "markdown",
      "source": [
        "Can do the above in less lines, by 'nesting' functions, or putting one thing inside of another"
      ],
      "metadata": {
        "id": "ntHl-6T1Jy61"
      }
    },
    {
      "cell_type": "code",
      "source": [
        "baker_2 = int(input(\"How many doughnuts are in a baker's dozen\"))\n",
        "print(type(baker_2))"
      ],
      "metadata": {
        "id": "yRqPbd4TJ6Os",
        "outputId": "c24aa004-db58-4220-a641-4b7a4ba1d102",
        "colab": {
          "base_uri": "https://localhost:8080/"
        }
      },
      "execution_count": 10,
      "outputs": [
        {
          "output_type": "stream",
          "name": "stdout",
          "text": [
            "How many doughnuts are in a baker's dozen13\n",
            "<class 'int'>\n"
          ]
        }
      ]
    },
    {
      "cell_type": "markdown",
      "metadata": {
        "id": "fFBa1kF4FcPd"
      },
      "source": [
        "### Standard Puzzles"
      ]
    },
    {
      "cell_type": "markdown",
      "metadata": {
        "id": "IZRdp0UXFcPd"
      },
      "source": [
        "Remake the farm yard animal puzzle from session one using user input"
      ]
    },
    {
      "cell_type": "code",
      "execution_count": null,
      "metadata": {
        "id": "qm--gpAmFcPd"
      },
      "outputs": [],
      "source": [
        ""
      ]
    },
    {
      "cell_type": "code",
      "execution_count": null,
      "metadata": {
        "id": "KEpUPkX7FcPe"
      },
      "outputs": [],
      "source": [
        ""
      ]
    },
    {
      "cell_type": "markdown",
      "metadata": {
        "id": "dOuSpI7PFcPe"
      },
      "source": [
        "### Bonus Puzzles"
      ]
    },
    {
      "cell_type": "markdown",
      "metadata": {
        "id": "nFK-vn_XFcPe"
      },
      "source": [
        "Try adding `\\r\\n` to the end of your question in `input()`"
      ]
    },
    {
      "cell_type": "code",
      "execution_count": null,
      "metadata": {
        "id": "eNii7DYxFcPf"
      },
      "outputs": [],
      "source": [
        ""
      ]
    },
    {
      "cell_type": "markdown",
      "metadata": {
        "id": "LzmK59zfFcPf"
      },
      "source": [
        "## Variables Types"
      ]
    },
    {
      "cell_type": "markdown",
      "metadata": {
        "id": "hsSx4rQhFcPf"
      },
      "source": [
        "### Introduction"
      ]
    },
    {
      "cell_type": "markdown",
      "metadata": {
        "id": "OjHbifo7FcPf"
      },
      "source": [
        "Add two strings together to concatenate their contents"
      ]
    },
    {
      "cell_type": "code",
      "execution_count": null,
      "metadata": {
        "id": "3Utbmd1mFcPf"
      },
      "outputs": [],
      "source": [
        ""
      ]
    },
    {
      "cell_type": "markdown",
      "metadata": {
        "id": "r0W-4v3cFcPg"
      },
      "source": [
        "Multiply a string by an integer"
      ]
    },
    {
      "cell_type": "code",
      "execution_count": null,
      "metadata": {
        "id": "rtP3u1wGFcPg"
      },
      "outputs": [],
      "source": [
        ""
      ]
    },
    {
      "cell_type": "markdown",
      "metadata": {
        "id": "beLet9HMFcPg"
      },
      "source": [
        "Try to multiply a string by a whole number stored as a float type to confirm that you recieve an error"
      ]
    },
    {
      "cell_type": "code",
      "execution_count": null,
      "metadata": {
        "id": "sUNuoeTKFcPg"
      },
      "outputs": [],
      "source": [
        ""
      ]
    },
    {
      "cell_type": "markdown",
      "metadata": {
        "id": "S6ozf4u3FcPg"
      },
      "source": [
        "### Standard Puzzles"
      ]
    },
    {
      "cell_type": "markdown",
      "metadata": {
        "id": "roNhM9ceFcPg"
      },
      "source": [
        "What could go wrong with the presentation code?"
      ]
    },
    {
      "cell_type": "markdown",
      "metadata": {
        "id": "w7FSlJh_FcPh"
      },
      "source": [
        ""
      ]
    },
    {
      "cell_type": "markdown",
      "metadata": {
        "id": "RU6GGP9RFcPh"
      },
      "source": [
        "## Summation"
      ]
    },
    {
      "cell_type": "markdown",
      "metadata": {
        "id": "71I_NPIbFcPh"
      },
      "source": [
        "### Introduction"
      ]
    },
    {
      "cell_type": "markdown",
      "metadata": {
        "id": "rBvpaxATFcPh"
      },
      "source": [
        "Create a list of numbers"
      ]
    },
    {
      "cell_type": "code",
      "execution_count": null,
      "metadata": {
        "id": "uViznCPeFcPh"
      },
      "outputs": [],
      "source": [
        ""
      ]
    },
    {
      "cell_type": "markdown",
      "metadata": {
        "id": "_3dXzGX2FcPi"
      },
      "source": [
        "Calculate the sum of these numbers and store this as a variable, then print this value"
      ]
    },
    {
      "cell_type": "code",
      "execution_count": null,
      "metadata": {
        "id": "jCAB_1U8FcPi"
      },
      "outputs": [],
      "source": [
        ""
      ]
    },
    {
      "cell_type": "markdown",
      "metadata": {
        "id": "Ijf2NZy1FcPi"
      },
      "source": [
        "### Standard Puzzles"
      ]
    },
    {
      "cell_type": "markdown",
      "metadata": {
        "id": "JqBv6aFAFcPi"
      },
      "source": [
        "Create a list with the values 193, 452, 67, 891, and 10"
      ]
    },
    {
      "cell_type": "code",
      "execution_count": null,
      "metadata": {
        "id": "ocEQpA1wFcPi"
      },
      "outputs": [],
      "source": [
        ""
      ]
    },
    {
      "cell_type": "markdown",
      "metadata": {
        "id": "i7JeNl5dFcPi"
      },
      "source": [
        "Find the sum of the items in the list and store it as a variable"
      ]
    },
    {
      "cell_type": "code",
      "execution_count": null,
      "metadata": {
        "id": "Wo9YquVgFcPi"
      },
      "outputs": [],
      "source": [
        ""
      ]
    },
    {
      "cell_type": "markdown",
      "metadata": {
        "id": "1vVdalB0FcPj"
      },
      "source": [
        "Use this variable to print the sum as part of a meaningful statement"
      ]
    },
    {
      "cell_type": "code",
      "execution_count": null,
      "metadata": {
        "id": "gW45Tj_jFcPj"
      },
      "outputs": [],
      "source": [
        ""
      ]
    },
    {
      "cell_type": "markdown",
      "metadata": {
        "id": "W_T_S5qMFcPj"
      },
      "source": [
        "### Bonus Puzzles"
      ]
    },
    {
      "cell_type": "markdown",
      "metadata": {
        "id": "Wu5FU_NmFcPj"
      },
      "source": [
        "Confirm that lists can contain negative and decimal numbers and that `sum()` behaves as you would expect with these"
      ]
    },
    {
      "cell_type": "code",
      "execution_count": null,
      "metadata": {
        "id": "ZE97nTwNFcPj"
      },
      "outputs": [],
      "source": [
        ""
      ]
    },
    {
      "cell_type": "markdown",
      "metadata": {
        "id": "orQWMBEaFcPj"
      },
      "source": [
        "## Min & Max"
      ]
    },
    {
      "cell_type": "markdown",
      "metadata": {
        "id": "dgtDlxBVFcPj"
      },
      "source": [
        "### Introduction"
      ]
    },
    {
      "cell_type": "markdown",
      "metadata": {
        "id": "FfGe_kcBFcPj"
      },
      "source": [
        "Create a list of numbers"
      ]
    },
    {
      "cell_type": "code",
      "execution_count": null,
      "metadata": {
        "id": "kcCh2E4SFcPk"
      },
      "outputs": [],
      "source": [
        ""
      ]
    },
    {
      "cell_type": "markdown",
      "metadata": {
        "id": "pXMJWQmfFcPk"
      },
      "source": [
        "Calculate the minimum of this list and print it in a meaningful statement"
      ]
    },
    {
      "cell_type": "code",
      "execution_count": null,
      "metadata": {
        "id": "JJxjEkUGFcPk"
      },
      "outputs": [],
      "source": [
        ""
      ]
    },
    {
      "cell_type": "markdown",
      "metadata": {
        "id": "zFVZwXZTFcPk"
      },
      "source": [
        "Repeat this for the maximum"
      ]
    },
    {
      "cell_type": "code",
      "execution_count": null,
      "metadata": {
        "id": "eBeuQ45HFcPk"
      },
      "outputs": [],
      "source": [
        ""
      ]
    },
    {
      "cell_type": "markdown",
      "metadata": {
        "id": "h3quFrGMFcPk"
      },
      "source": [
        "### Standard Puzzles"
      ]
    },
    {
      "cell_type": "markdown",
      "metadata": {
        "id": "7pd8q9EoFcPk"
      },
      "source": [
        "Create a list of numbers and find the minimum and maximum"
      ]
    },
    {
      "cell_type": "code",
      "execution_count": null,
      "metadata": {
        "id": "1pkG-hNzFcPk"
      },
      "outputs": [],
      "source": [
        ""
      ]
    },
    {
      "cell_type": "markdown",
      "metadata": {
        "id": "CsM1v_GHFcPk"
      },
      "source": [
        "Use these to find the range of the data and print this in a meaningful statement"
      ]
    },
    {
      "cell_type": "code",
      "execution_count": null,
      "metadata": {
        "id": "0ijOUhjtFcPl"
      },
      "outputs": [],
      "source": [
        ""
      ]
    },
    {
      "cell_type": "markdown",
      "metadata": {
        "id": "Dus3bQNCFcPl"
      },
      "source": [
        "## Length"
      ]
    },
    {
      "cell_type": "markdown",
      "metadata": {
        "id": "tbe3qw4uFcPl"
      },
      "source": [
        "### Introduction"
      ]
    },
    {
      "cell_type": "markdown",
      "metadata": {
        "id": "d-ZZp7S1FcPl"
      },
      "source": [
        "Create a list of numbers and print the number of items it contains"
      ]
    },
    {
      "cell_type": "code",
      "execution_count": null,
      "metadata": {
        "id": "MyB5cfgPFcPl"
      },
      "outputs": [],
      "source": [
        ""
      ]
    },
    {
      "cell_type": "markdown",
      "metadata": {
        "id": "K3U3076dFcPl"
      },
      "source": [
        "Create a string and print out the number of characters it contains"
      ]
    },
    {
      "cell_type": "code",
      "execution_count": null,
      "metadata": {
        "id": "HiNVNIgJFcPl"
      },
      "outputs": [],
      "source": [
        ""
      ]
    },
    {
      "cell_type": "markdown",
      "metadata": {
        "id": "qv11YL_pFcPl"
      },
      "source": [
        "### Standard Puzzles"
      ]
    },
    {
      "cell_type": "markdown",
      "metadata": {
        "id": "SYhLF_UFFcPm"
      },
      "source": [
        "Ask the user for a string input"
      ]
    },
    {
      "cell_type": "code",
      "execution_count": null,
      "metadata": {
        "id": "KwSYIn2XFcPo"
      },
      "outputs": [],
      "source": [
        ""
      ]
    },
    {
      "cell_type": "markdown",
      "metadata": {
        "id": "QeT_H4pZFcPo"
      },
      "source": [
        "Output the length of this string"
      ]
    },
    {
      "cell_type": "code",
      "execution_count": null,
      "metadata": {
        "id": "Gd-j0qAQFcPo"
      },
      "outputs": [],
      "source": [
        ""
      ]
    },
    {
      "cell_type": "markdown",
      "metadata": {
        "id": "WS48qqs-FcPo"
      },
      "source": [
        "### Bonus Puzzles"
      ]
    },
    {
      "cell_type": "markdown",
      "metadata": {
        "id": "bt2BASSSFcPp"
      },
      "source": [
        "Use the supplied code to let the user input the values of a list"
      ]
    },
    {
      "cell_type": "code",
      "execution_count": null,
      "metadata": {
        "id": "prbtIIvIFcPp"
      },
      "outputs": [],
      "source": [
        ""
      ]
    },
    {
      "cell_type": "markdown",
      "metadata": {
        "id": "wsajlsEJFcPp"
      },
      "source": [
        "Print the length of this list"
      ]
    },
    {
      "cell_type": "code",
      "execution_count": null,
      "metadata": {
        "id": "izZY1y8vFcPp"
      },
      "outputs": [],
      "source": [
        ""
      ]
    }
  ],
  "metadata": {
    "colab": {
      "name": "Code Club Session 1",
      "provenance": []
    },
    "kernelspec": {
      "display_name": "Python 3",
      "language": "python",
      "name": "python3"
    },
    "language_info": {
      "codemirror_mode": {
        "name": "ipython",
        "version": 3
      },
      "file_extension": ".py",
      "mimetype": "text/x-python",
      "name": "python",
      "nbconvert_exporter": "python",
      "pygments_lexer": "ipython3",
      "version": "3.7.3"
    }
  },
  "nbformat": 4,
  "nbformat_minor": 0
}