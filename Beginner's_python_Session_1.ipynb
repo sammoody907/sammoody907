{
  "nbformat": 4,
  "nbformat_minor": 0,
  "metadata": {
    "colab": {
      "name": "Beginner's python Session 1",
      "provenance": [],
      "collapsed_sections": [],
      "authorship_tag": "ABX9TyN/N9mXI1jGlYBZ0IODTrWt",
      "include_colab_link": true
    },
    "kernelspec": {
      "name": "python3",
      "display_name": "Python 3"
    },
    "language_info": {
      "name": "python"
    }
  },
  "cells": [
    {
      "cell_type": "markdown",
      "metadata": {
        "id": "view-in-github",
        "colab_type": "text"
      },
      "source": [
        "<a href=\"https://colab.research.google.com/github/sammoody907/sammoody907/blob/main/Beginner's_python_Session_1.ipynb\" target=\"_parent\"><img src=\"https://colab.research.google.com/assets/colab-badge.svg\" alt=\"Open In Colab\"/></a>"
      ]
    },
    {
      "cell_type": "code",
      "metadata": {
        "colab": {
          "base_uri": "https://localhost:8080/"
        },
        "id": "gzd6-iShs0kq",
        "outputId": "245ce384-5733-4a42-d141-13fbc7e08540"
      },
      "source": [
        "print(\"Hello World\")"
      ],
      "execution_count": 1,
      "outputs": [
        {
          "output_type": "stream",
          "name": "stdout",
          "text": [
            "Hello World\n"
          ]
        }
      ]
    },
    {
      "cell_type": "markdown",
      "metadata": {
        "id": "A-hrZiGz2q5X"
      },
      "source": [
        "Double quotes lets Python know it is dealing with text data"
      ]
    },
    {
      "cell_type": "code",
      "metadata": {
        "colab": {
          "base_uri": "https://localhost:8080/"
        },
        "id": "AENev-ols9SW",
        "outputId": "9929a394-ddfe-4cfd-9b0f-e227edb1f5d2"
      },
      "source": [
        "print(\"Hello World\")"
      ],
      "execution_count": 2,
      "outputs": [
        {
          "output_type": "stream",
          "name": "stdout",
          "text": [
            "Hello World\n"
          ]
        }
      ]
    },
    {
      "cell_type": "markdown",
      "metadata": {
        "id": "9MJw-DiO2wkb"
      },
      "source": [
        "You can have multiple inputs within brackets by separating them with a comma "
      ]
    },
    {
      "cell_type": "code",
      "metadata": {
        "colab": {
          "base_uri": "https://localhost:8080/"
        },
        "id": "08j3YWHss_ES",
        "outputId": "28038b52-77a8-4d7f-d0a7-a6acadf7990c"
      },
      "source": [
        "print(\"Here is the answer for fifteen times 5:\", 15*5)"
      ],
      "execution_count": 3,
      "outputs": [
        {
          "output_type": "stream",
          "name": "stdout",
          "text": [
            "Here is the answer for fifteen times 5: 75\n"
          ]
        }
      ]
    },
    {
      "cell_type": "code",
      "metadata": {
        "colab": {
          "base_uri": "https://localhost:8080/"
        },
        "id": "n4-wW_CJs_IB",
        "outputId": "3cf2e16c-5f49-4967-a77a-6c7c850438f8"
      },
      "source": [
        "print(\"My name is Samuel\")"
      ],
      "execution_count": 4,
      "outputs": [
        {
          "output_type": "stream",
          "name": "stdout",
          "text": [
            "My name is Samuel\n"
          ]
        }
      ]
    },
    {
      "cell_type": "code",
      "metadata": {
        "colab": {
          "base_uri": "https://localhost:8080/"
        },
        "id": "zWgSBHJEs_NJ",
        "outputId": "5d53e7d6-f6a6-44ac-a035-8066e98e8cc0"
      },
      "source": [
        "print(\"Orange\",\"Blue\",\"Purple\")"
      ],
      "execution_count": 5,
      "outputs": [
        {
          "output_type": "stream",
          "name": "stdout",
          "text": [
            "Orange Blue Purple\n"
          ]
        }
      ]
    },
    {
      "cell_type": "code",
      "metadata": {
        "colab": {
          "base_uri": "https://localhost:8080/"
        },
        "id": "0fAq6gYAs_Pl",
        "outputId": "90d2f464-b37f-448f-da70-10b53558d9b1"
      },
      "source": [
        "print(26*66+13)"
      ],
      "execution_count": 6,
      "outputs": [
        {
          "output_type": "stream",
          "name": "stdout",
          "text": [
            "1729\n"
          ]
        }
      ]
    },
    {
      "cell_type": "code",
      "metadata": {
        "colab": {
          "base_uri": "https://localhost:8080/"
        },
        "id": "mgJuhDPrs_SZ",
        "outputId": "46e7e7c2-bc82-4a63-8b9c-9e480a8a66e4"
      },
      "source": [
        "print(6804/162)"
      ],
      "execution_count": 7,
      "outputs": [
        {
          "output_type": "stream",
          "name": "stdout",
          "text": [
            "42.0\n"
          ]
        }
      ]
    },
    {
      "cell_type": "markdown",
      "metadata": {
        "id": "0C_zn7luvTEa"
      },
      "source": [
        "Below is how to do to the power of "
      ]
    },
    {
      "cell_type": "code",
      "metadata": {
        "colab": {
          "base_uri": "https://localhost:8080/"
        },
        "id": "Oqgr0unBs_U7",
        "outputId": "c41aca71-0b61-4165-88da-d316ce13720f"
      },
      "source": [
        "print(2**8)"
      ],
      "execution_count": 8,
      "outputs": [
        {
          "output_type": "stream",
          "name": "stdout",
          "text": [
            "256\n"
          ]
        }
      ]
    },
    {
      "cell_type": "code",
      "metadata": {
        "colab": {
          "base_uri": "https://localhost:8080/"
        },
        "id": "KB1oasyHs_W2",
        "outputId": "40d313f6-401c-4330-ef11-3d375f62e444"
      },
      "source": [
        "print(\"4+6\")"
      ],
      "execution_count": 9,
      "outputs": [
        {
          "output_type": "stream",
          "name": "stdout",
          "text": [
            "4+6\n"
          ]
        }
      ]
    },
    {
      "cell_type": "code",
      "metadata": {
        "colab": {
          "base_uri": "https://localhost:8080/",
          "height": 167
        },
        "id": "7YFaNCDKwFpa",
        "outputId": "6ece14eb-587b-4a16-db34-643a9d9213d4"
      },
      "source": [
        ""
      ],
      "execution_count": 10,
      "outputs": [
        {
          "output_type": "error",
          "ename": "NameError",
          "evalue": "ignored",
          "traceback": [
            "\u001b[0;31m---------------------------------------------------------------------------\u001b[0m",
            "\u001b[0;31mNameError\u001b[0m                                 Traceback (most recent call last)",
            "\u001b[0;32m<ipython-input-10-eb426a4bff81>\u001b[0m in \u001b[0;36m<module>\u001b[0;34m()\u001b[0m\n\u001b[0;32m----> 1\u001b[0;31m \u001b[0mVariables\u001b[0m\u001b[0;34m\u001b[0m\u001b[0;34m\u001b[0m\u001b[0m\n\u001b[0m",
            "\u001b[0;31mNameError\u001b[0m: name 'Variables' is not defined"
          ]
        }
      ]
    },
    {
      "cell_type": "markdown",
      "metadata": {
        "id": "ioHV6taMwECr"
      },
      "source": [
        "**Variables**"
      ]
    },
    {
      "cell_type": "markdown",
      "metadata": {
        "id": "hC63dvw724QW"
      },
      "source": [
        "A variable is essentially a way of naming a particular bit of data so that we can reference it later "
      ]
    },
    {
      "cell_type": "markdown",
      "metadata": {
        "id": "ii3rMVHL28P0"
      },
      "source": [
        "The symbol ‘=’ means take the data on the right and assign that to the name on the left "
      ]
    },
    {
      "cell_type": "markdown",
      "metadata": {
        "id": "eMFdByrL2_EY"
      },
      "source": [
        "Still need to use quotes when wanting to create variables based on text data"
      ]
    },
    {
      "cell_type": "markdown",
      "metadata": {
        "id": "2bxqp0L-3BeC"
      },
      "source": [
        "Once you’ve created a variable, it will continue to exist until you have closed your browser or manually deleted the variable"
      ]
    },
    {
      "cell_type": "code",
      "metadata": {
        "id": "V8utkB8AwpkE"
      },
      "source": [
        "favourite_food = \"Chicken\""
      ],
      "execution_count": 12,
      "outputs": []
    },
    {
      "cell_type": "code",
      "metadata": {
        "colab": {
          "base_uri": "https://localhost:8080/"
        },
        "id": "Oge9W0_pww7K",
        "outputId": "fdce64d4-a1ba-43fb-83a4-3fc3a822ce29"
      },
      "source": [
        "print(\"My favourite food is\", favourite_food)"
      ],
      "execution_count": 13,
      "outputs": [
        {
          "output_type": "stream",
          "name": "stdout",
          "text": [
            "My favourite food is Chicken\n"
          ]
        }
      ]
    },
    {
      "cell_type": "code",
      "metadata": {
        "colab": {
          "base_uri": "https://localhost:8080/"
        },
        "id": "4vP5siAAww-B",
        "outputId": "6df23cf4-b0b9-4791-fe4e-c9c39f14be4c"
      },
      "source": [
        "print(\"My favourite food is\", \"favourite_food\")"
      ],
      "execution_count": 14,
      "outputs": [
        {
          "output_type": "stream",
          "name": "stdout",
          "text": [
            "My favourite food is favourite_food\n"
          ]
        }
      ]
    },
    {
      "cell_type": "code",
      "metadata": {
        "id": "T31JbBhwwxAP"
      },
      "source": [
        "name = \"Samuel\""
      ],
      "execution_count": 15,
      "outputs": []
    },
    {
      "cell_type": "code",
      "metadata": {
        "id": "JXPsCP3XwxDF"
      },
      "source": [
        "age = 22"
      ],
      "execution_count": 16,
      "outputs": []
    },
    {
      "cell_type": "code",
      "metadata": {
        "colab": {
          "base_uri": "https://localhost:8080/"
        },
        "id": "3KCz3bp8wxFE",
        "outputId": "2f26aa45-7a84-48d4-f382-53e7c15a74a8"
      },
      "source": [
        "print (\"Hi, my name is\", name, \"and I am\", age)"
      ],
      "execution_count": 17,
      "outputs": [
        {
          "output_type": "stream",
          "name": "stdout",
          "text": [
            "Hi, my name is Samuel and I am 22\n"
          ]
        }
      ]
    },
    {
      "cell_type": "code",
      "metadata": {
        "colab": {
          "base_uri": "https://localhost:8080/"
        },
        "id": "fYiOZ54owxG5",
        "outputId": "6dc2b508-d608-4f70-cd28-b15db659fedd"
      },
      "source": [
        "print (\"In 5 years' time, I will be\", age+5)"
      ],
      "execution_count": 18,
      "outputs": [
        {
          "output_type": "stream",
          "name": "stdout",
          "text": [
            "In 5 years' time, I will be 27\n"
          ]
        }
      ]
    },
    {
      "cell_type": "markdown",
      "metadata": {
        "id": "M6C1aFcs2dU3"
      },
      "source": [
        "**Manipulating variables**"
      ]
    },
    {
      "cell_type": "markdown",
      "metadata": {
        "id": "ABX30Y-72mKK"
      },
      "source": [
        "Python will only remember the last value that you assigned to a variable "
      ]
    },
    {
      "cell_type": "markdown",
      "metadata": {
        "id": "pSnbo9Q73Gdj"
      },
      "source": [
        "The act of giving a variable a new value is known as overwriting or overriding - therefore, the order in which your code cells are run is important "
      ]
    },
    {
      "cell_type": "code",
      "metadata": {
        "id": "PlBs9UEYwxK7"
      },
      "source": [
        "hobby = \"football\""
      ],
      "execution_count": 22,
      "outputs": []
    },
    {
      "cell_type": "code",
      "metadata": {
        "id": "EXJZvmnTwxNf"
      },
      "source": [
        "hobby = \"tennis\""
      ],
      "execution_count": 21,
      "outputs": []
    },
    {
      "cell_type": "code",
      "metadata": {
        "colab": {
          "base_uri": "https://localhost:8080/"
        },
        "id": "043MhT9HwxPW",
        "outputId": "18fdf59d-f09d-4ad3-ac43-9a4a31250d08"
      },
      "source": [
        "print (\"I like to play\", hobby)"
      ],
      "execution_count": 23,
      "outputs": [
        {
          "output_type": "stream",
          "name": "stdout",
          "text": [
            "I like to play football\n"
          ]
        }
      ]
    },
    {
      "cell_type": "markdown",
      "metadata": {
        "id": "O2zeq1Gp3jBy"
      },
      "source": [
        "See numbers in brackets to show order in which cells were run "
      ]
    },
    {
      "cell_type": "markdown",
      "metadata": {
        "id": "oDDAbYKf3sbY"
      },
      "source": [
        "Runtime --> Run before = runs everything before the cell you are currently selecting"
      ]
    },
    {
      "cell_type": "code",
      "metadata": {
        "id": "QH98O4UB3nX1"
      },
      "source": [
        "small_number = 2"
      ],
      "execution_count": 24,
      "outputs": []
    },
    {
      "cell_type": "code",
      "metadata": {
        "id": "u1G-VGGr4Fek"
      },
      "source": [
        "big_num = 100* small_number"
      ],
      "execution_count": 25,
      "outputs": []
    },
    {
      "cell_type": "code",
      "metadata": {
        "colab": {
          "base_uri": "https://localhost:8080/"
        },
        "id": "TRK8qikR4FUI",
        "outputId": "aa37f475-925a-4526-dfa5-04c1090b8e48"
      },
      "source": [
        "print (big_num, \"is\", big_num/small_number, \"times bigger than\", small_number)"
      ],
      "execution_count": 26,
      "outputs": [
        {
          "output_type": "stream",
          "name": "stdout",
          "text": [
            "200 is 100.0 times bigger than 2\n"
          ]
        }
      ]
    },
    {
      "cell_type": "markdown",
      "metadata": {
        "id": "3WtBJmup36ys"
      },
      "source": [
        "Can define a new variable by manipulating the value of an existing variable"
      ]
    },
    {
      "cell_type": "markdown",
      "metadata": {
        "id": "oHV02DpJ4hLC"
      },
      "source": [
        "You can even replace the current value of a variable with a new value based on an old one"
      ]
    },
    {
      "cell_type": "code",
      "metadata": {
        "id": "T5OGT1cH3oHF"
      },
      "source": [
        "number = 7"
      ],
      "execution_count": 27,
      "outputs": []
    },
    {
      "cell_type": "code",
      "metadata": {
        "id": "urUmtP9q3oDQ"
      },
      "source": [
        "number = number *3"
      ],
      "execution_count": 28,
      "outputs": []
    },
    {
      "cell_type": "code",
      "metadata": {
        "colab": {
          "base_uri": "https://localhost:8080/"
        },
        "id": "7oFEQxoJ3oAH",
        "outputId": "2b4bc914-2f8f-44b0-9899-6e3adc3be347"
      },
      "source": [
        "print(number)"
      ],
      "execution_count": 29,
      "outputs": [
        {
          "output_type": "stream",
          "name": "stdout",
          "text": [
            "21\n"
          ]
        }
      ]
    },
    {
      "cell_type": "markdown",
      "metadata": {
        "id": "n9PZ1PgH5Yhi"
      },
      "source": [
        "*be careful* - the second line just assigns the value 2 to y, it doesn't create a relationship between y and x"
      ]
    },
    {
      "cell_type": "code",
      "metadata": {
        "colab": {
          "base_uri": "https://localhost:8080/"
        },
        "id": "EZ4b88TI3nuQ",
        "outputId": "a92a5331-87fa-47db-9360-2d1b5c3c4f7e"
      },
      "source": [
        "x=2\n",
        "y=x\n",
        "x=3\n",
        "print(y)"
      ],
      "execution_count": 30,
      "outputs": [
        {
          "output_type": "stream",
          "name": "stdout",
          "text": [
            "2\n"
          ]
        }
      ]
    },
    {
      "cell_type": "markdown",
      "metadata": {
        "id": "QrYu5hZb7x4C"
      },
      "source": [
        "**Variable Types**"
      ]
    },
    {
      "cell_type": "markdown",
      "metadata": {
        "id": "lyze519J72EK"
      },
      "source": [
        "Strings - text in quotes, called strings because they are a string of characters"
      ]
    },
    {
      "cell_type": "markdown",
      "metadata": {
        "id": "ktrhUX-Z7_SW"
      },
      "source": [
        "Integers"
      ]
    },
    {
      "cell_type": "markdown",
      "metadata": {
        "id": "3OPfK1cl8Auw"
      },
      "source": [
        "Floats - decimal numbers, called floats because of how Python stores them - *floating point arithmetic*"
      ]
    },
    {
      "cell_type": "markdown",
      "metadata": {
        "id": "A_1sH5NV8NkG"
      },
      "source": [
        "Other data types we will discover in future sessions "
      ]
    },
    {
      "cell_type": "code",
      "metadata": {
        "colab": {
          "base_uri": "https://localhost:8080/"
        },
        "id": "oARfWzQ58cjC",
        "outputId": "72874ad0-d1ba-4239-92c5-297347e07148"
      },
      "source": [
        "print(type(number))"
      ],
      "execution_count": 31,
      "outputs": [
        {
          "output_type": "stream",
          "name": "stdout",
          "text": [
            "<class 'int'>\n"
          ]
        }
      ]
    },
    {
      "cell_type": "code",
      "metadata": {
        "colab": {
          "base_uri": "https://localhost:8080/"
        },
        "id": "AQYuZ25A8fC4",
        "outputId": "01b0f4bd-a022-4d02-e6c1-4a60ac87131c"
      },
      "source": [
        "print(type(name))"
      ],
      "execution_count": 32,
      "outputs": [
        {
          "output_type": "stream",
          "name": "stdout",
          "text": [
            "<class 'str'>\n"
          ]
        }
      ]
    },
    {
      "cell_type": "markdown",
      "metadata": {
        "id": "DwU0RLS_8SdE"
      },
      "source": [
        "Python tries to guess the type for you - often correct, but may need to correct type if it is wrong"
      ]
    },
    {
      "cell_type": "code",
      "metadata": {
        "colab": {
          "base_uri": "https://localhost:8080/"
        },
        "id": "VHvKWHsd9g4e",
        "outputId": "591c7496-789c-46e7-afb0-6ad9dc3e1704"
      },
      "source": [
        "print(type(\"Samuel\"))"
      ],
      "execution_count": 33,
      "outputs": [
        {
          "output_type": "stream",
          "name": "stdout",
          "text": [
            "<class 'str'>\n"
          ]
        }
      ]
    },
    {
      "cell_type": "markdown",
      "metadata": {
        "id": "n1bIdEsh9lvk"
      },
      "source": [
        "We can do the above, because when Python sees name, it just replaces it with Samuel and returns the type of this bit of data "
      ]
    },
    {
      "cell_type": "code",
      "metadata": {
        "colab": {
          "base_uri": "https://localhost:8080/"
        },
        "id": "Wp0togeG96tA",
        "outputId": "5a432447-7dc0-4e4b-8a3d-83e4e280494e"
      },
      "source": [
        "type(name)"
      ],
      "execution_count": 34,
      "outputs": [
        {
          "data": {
            "text/plain": [
              "str"
            ]
          },
          "execution_count": null,
          "metadata": {},
          "output_type": "execute_result"
        }
      ]
    },
    {
      "cell_type": "code",
      "metadata": {
        "id": "W4yR8o5v-CF5"
      },
      "source": [
        "type(\"Samuel\")"
      ],
      "execution_count": null,
      "outputs": []
    },
    {
      "cell_type": "markdown",
      "metadata": {
        "id": "LQgamK9c-Guw"
      },
      "source": [
        "You can use the functions int() float () and str() to convert between types, providing that it is possible to make a conversion - otherwise you'll get an error"
      ]
    },
    {
      "cell_type": "code",
      "metadata": {
        "id": "tvVKsWbu-NH4"
      },
      "source": [
        "string_to_convert = \"10\""
      ],
      "execution_count": 36,
      "outputs": []
    },
    {
      "cell_type": "code",
      "metadata": {
        "id": "GHTAdKG4-nu4"
      },
      "source": [
        "converted_string = int(string_to_convert)"
      ],
      "execution_count": 37,
      "outputs": []
    },
    {
      "cell_type": "code",
      "metadata": {
        "colab": {
          "base_uri": "https://localhost:8080/"
        },
        "id": "SWI1tQ8i-ntY",
        "outputId": "5554a475-1b14-4218-8e7d-9a195acdc9a3"
      },
      "source": [
        "type(converted_string)"
      ],
      "execution_count": 38,
      "outputs": [
        {
          "output_type": "execute_result",
          "data": {
            "text/plain": [
              "int"
            ]
          },
          "metadata": {},
          "execution_count": 38
        }
      ]
    },
    {
      "cell_type": "markdown",
      "metadata": {
        "id": "AynsASMJ_ID7"
      },
      "source": [
        "Converting below won't work, as Python can't do anything with this value, as opposed to being able to recognise 10 as an integer "
      ]
    },
    {
      "cell_type": "code",
      "metadata": {
        "colab": {
          "base_uri": "https://localhost:8080/"
        },
        "id": "w7pqYhKp-nrD",
        "outputId": "20243de0-0964-4b07-c566-1fd0f02af25c"
      },
      "source": [
        "anotherstring_to_convert = \"This is crazy bro\"\n",
        "print(type(anotherstring_to_convert))"
      ],
      "execution_count": 40,
      "outputs": [
        {
          "output_type": "stream",
          "name": "stdout",
          "text": [
            "<class 'str'>\n"
          ]
        }
      ]
    },
    {
      "cell_type": "code",
      "metadata": {
        "colab": {
          "base_uri": "https://localhost:8080/",
          "height": 167
        },
        "id": "6br6Jw2k-noW",
        "outputId": "9d0c25ca-314a-4358-e30c-b2faf4d89f30"
      },
      "source": [
        "anotherconvert = int(anotherstring_to_convert)"
      ],
      "execution_count": 41,
      "outputs": [
        {
          "output_type": "error",
          "ename": "ValueError",
          "evalue": "ignored",
          "traceback": [
            "\u001b[0;31m---------------------------------------------------------------------------\u001b[0m",
            "\u001b[0;31mValueError\u001b[0m                                Traceback (most recent call last)",
            "\u001b[0;32m<ipython-input-41-4e8e8b1f1587>\u001b[0m in \u001b[0;36m<module>\u001b[0;34m()\u001b[0m\n\u001b[0;32m----> 1\u001b[0;31m \u001b[0manotherconvert\u001b[0m \u001b[0;34m=\u001b[0m \u001b[0mint\u001b[0m\u001b[0;34m(\u001b[0m\u001b[0manotherstring_to_convert\u001b[0m\u001b[0;34m)\u001b[0m\u001b[0;34m\u001b[0m\u001b[0;34m\u001b[0m\u001b[0m\n\u001b[0m",
            "\u001b[0;31mValueError\u001b[0m: invalid literal for int() with base 10: 'This is crazy bro'"
          ]
        }
      ]
    },
    {
      "cell_type": "markdown",
      "metadata": {
        "id": "onSVMBZd_wMF"
      },
      "source": [
        "**Functions**"
      ]
    },
    {
      "cell_type": "markdown",
      "metadata": {
        "id": "wsxnaqJk_xzd"
      },
      "source": [
        "A function is basically a command that has some sort of an output, a way of getting Python to do something "
      ]
    },
    {
      "cell_type": "markdown",
      "metadata": {
        "id": "JcmyjanJADlJ"
      },
      "source": [
        "Typically, separate inputs by commas and function will start with lowercase letter (typically)"
      ]
    },
    {
      "cell_type": "markdown",
      "metadata": {
        "id": "oUScYFFe_6uQ"
      },
      "source": [
        "print(), type(),  str(),  int(), float() are all examples of functions"
      ]
    },
    {
      "cell_type": "markdown",
      "metadata": {
        "id": "w4Sa9P1kAAn7"
      },
      "source": [
        ""
      ]
    },
    {
      "cell_type": "code",
      "metadata": {
        "colab": {
          "base_uri": "https://localhost:8080/"
        },
        "id": "NA4lzN7zAKT3",
        "outputId": "e5e4639a-344d-438d-f480-b67a2f619e7d"
      },
      "source": [
        " x = 2\n",
        " y = 2.0\n",
        " z = \"2\"\n",
        "print(type(x))\n",
        "print(type(y))\n",
        "print(type(z))"
      ],
      "execution_count": 43,
      "outputs": [
        {
          "output_type": "stream",
          "name": "stdout",
          "text": [
            "<class 'int'>\n",
            "<class 'float'>\n",
            "<class 'str'>\n"
          ]
        }
      ]
    },
    {
      "cell_type": "markdown",
      "metadata": {
        "id": "vlq-lR3oA43E"
      },
      "source": [
        "Computers are very literal. Therefore, despite 2.0 clearly being an integer, Python records this as a float variable "
      ]
    },
    {
      "cell_type": "code",
      "metadata": {
        "colab": {
          "base_uri": "https://localhost:8080/"
        },
        "id": "VV_Z4piJ-nmI",
        "outputId": "1fc6e949-fd2b-4d53-a194-92e448f1242b"
      },
      "source": [
        "w = \"6\"\n",
        "print(z+w)"
      ],
      "execution_count": 45,
      "outputs": [
        {
          "output_type": "stream",
          "name": "stdout",
          "text": [
            "26\n"
          ]
        }
      ]
    }
  ]
}